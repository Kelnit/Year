{
 "cells": [
  {
   "cell_type": "code",
   "execution_count": 1,
   "id": "74b9bc24-c43f-49a9-9094-456439bce236",
   "metadata": {},
   "outputs": [],
   "source": [
    "import pandas, warnings\n",
    "\n",
    "import seaborn as sns\n",
    "\n",
    "import matplotlib.pyplot as plt\n",
    "\n",
    "warnings.filterwarnings(\"ignore\")\n",
    "\n",
    "sns.set_style(\"whitegrid\")"
   ]
  },
  {
   "cell_type": "code",
   "execution_count": 2,
   "id": "678fd434-cb17-4054-86c2-f2a877b4e84e",
   "metadata": {},
   "outputs": [],
   "source": [
    "colors = [\"#BC9F8B\", \"#B5CFB7\", \"#C5705D\", \"#ACE1AF\", \"#B3C8CF\"]\n",
    "\n",
    "def barplot(result, **barlimit):\n",
    "  if \"ylabel\" not in barlimit.keys():\n",
    "    barlimit[\"ylabel\"] = \"Total Trip\"\n",
    "  if \"color\" not in barlimit.keys():\n",
    "    barlimit[\"color\"] = colors\n",
    "  bar = result.plot.bar(rot=0, **barlimit)\n",
    "  for container in bar.containers:\n",
    "    bar.bar_label(container, fmt=\"%1.1f\")\n",
    "\n",
    "def pieplot(result, **pieargs):\n",
    "  if \"colors\" not in pieargs.keys():\n",
    "    pieargs[\"colors\"] = colors\n",
    "  pieargs[\"ylabel\"] = \"\"\n",
    "  plot = result.plot.pie(**pieargs);\n",
    "\n",
    "def lineplot(result, **lineargs):\n",
    "  plot = result.plot.line(**lineargs)\n",
    "  plot.set_xticks(result.index);"
   ]
  },
  {
   "cell_type": "code",
   "execution_count": 3,
   "id": "bef220f2-24a0-4f86-8a6c-e9efe0cf3cf8",
   "metadata": {},
   "outputs": [
    {
     "data": {
      "text/html": [
       "<div>\n",
       "<style scoped>\n",
       "    .dataframe tbody tr th:only-of-type {\n",
       "        vertical-align: middle;\n",
       "    }\n",
       "\n",
       "    .dataframe tbody tr th {\n",
       "        vertical-align: top;\n",
       "    }\n",
       "\n",
       "    .dataframe thead th {\n",
       "        text-align: right;\n",
       "    }\n",
       "</style>\n",
       "<table border=\"1\" class=\"dataframe\">\n",
       "  <thead>\n",
       "    <tr style=\"text-align: right;\">\n",
       "      <th></th>\n",
       "      <th>id</th>\n",
       "      <th>station_id</th>\n",
       "      <th>train_id</th>\n",
       "      <th>line</th>\n",
       "      <th>route</th>\n",
       "      <th>color</th>\n",
       "      <th>destination</th>\n",
       "    </tr>\n",
       "  </thead>\n",
       "  <tbody>\n",
       "    <tr>\n",
       "      <th>0</th>\n",
       "      <td>AC-2400</td>\n",
       "      <td>AC</td>\n",
       "      <td>2400</td>\n",
       "      <td>COMMUTER LINE TANJUNGPRIUK</td>\n",
       "      <td>JAKARTAKOTA-TANJUNGPRIUK</td>\n",
       "      <td>#DD0067</td>\n",
       "      <td>TANJUNGPRIUK</td>\n",
       "    </tr>\n",
       "    <tr>\n",
       "      <th>1</th>\n",
       "      <td>AC-2401</td>\n",
       "      <td>AC</td>\n",
       "      <td>2401</td>\n",
       "      <td>COMMUTER LINE TANJUNGPRIUK</td>\n",
       "      <td>TANJUNGPRIUK-JAKARTAKOTA</td>\n",
       "      <td>#DD0067</td>\n",
       "      <td>JAKARTAKOTA</td>\n",
       "    </tr>\n",
       "    <tr>\n",
       "      <th>2</th>\n",
       "      <td>AC-2402</td>\n",
       "      <td>AC</td>\n",
       "      <td>2402</td>\n",
       "      <td>COMMUTER LINE TANJUNGPRIUK</td>\n",
       "      <td>JAKARTAKOTA-TANJUNGPRIUK</td>\n",
       "      <td>#DD0067</td>\n",
       "      <td>TANJUNGPRIUK</td>\n",
       "    </tr>\n",
       "    <tr>\n",
       "      <th>3</th>\n",
       "      <td>AC-2403</td>\n",
       "      <td>AC</td>\n",
       "      <td>2403</td>\n",
       "      <td>COMMUTER LINE TANJUNGPRIUK</td>\n",
       "      <td>TANJUNGPRIUK-JAKARTAKOTA</td>\n",
       "      <td>#DD0067</td>\n",
       "      <td>JAKARTAKOTA</td>\n",
       "    </tr>\n",
       "    <tr>\n",
       "      <th>4</th>\n",
       "      <td>AC-2404</td>\n",
       "      <td>AC</td>\n",
       "      <td>2404</td>\n",
       "      <td>COMMUTER LINE TANJUNGPRIUK</td>\n",
       "      <td>JAKARTAKOTA-TANJUNGPRIUK</td>\n",
       "      <td>#DD0067</td>\n",
       "      <td>TANJUNGPRIUK</td>\n",
       "    </tr>\n",
       "  </tbody>\n",
       "</table>\n",
       "</div>"
      ],
      "text/plain": [
       "        id station_id train_id                        line  \\\n",
       "0  AC-2400         AC     2400  COMMUTER LINE TANJUNGPRIUK   \n",
       "1  AC-2401         AC     2401  COMMUTER LINE TANJUNGPRIUK   \n",
       "2  AC-2402         AC     2402  COMMUTER LINE TANJUNGPRIUK   \n",
       "3  AC-2403         AC     2403  COMMUTER LINE TANJUNGPRIUK   \n",
       "4  AC-2404         AC     2404  COMMUTER LINE TANJUNGPRIUK   \n",
       "\n",
       "                      route    color   destination  \n",
       "0  JAKARTAKOTA-TANJUNGPRIUK  #DD0067  TANJUNGPRIUK  \n",
       "1  TANJUNGPRIUK-JAKARTAKOTA  #DD0067   JAKARTAKOTA  \n",
       "2  JAKARTAKOTA-TANJUNGPRIUK  #DD0067  TANJUNGPRIUK  \n",
       "3  TANJUNGPRIUK-JAKARTAKOTA  #DD0067   JAKARTAKOTA  \n",
       "4  JAKARTAKOTA-TANJUNGPRIUK  #DD0067  TANJUNGPRIUK  "
      ]
     },
     "execution_count": 3,
     "metadata": {},
     "output_type": "execute_result"
    }
   ],
   "source": [
    "url = \"trainstati.csv\"\n",
    "\n",
    "tanggal = [\"time_estimated\", \"destination_time\", \"updated_at\"]\n",
    "\n",
    "origin = pandas.read_table(url, sep=\",\", parse_dates=tanggal)\n",
    "\n",
    "origin.iloc[:5, :7]"
   ]
  },
  {
   "cell_type": "code",
   "execution_count": 4,
   "id": "b3b878b4-dbf2-4d3b-a273-d2cb50db0523",
   "metadata": {},
   "outputs": [
    {
     "data": {
      "text/html": [
       "<div>\n",
       "<style scoped>\n",
       "    .dataframe tbody tr th:only-of-type {\n",
       "        vertical-align: middle;\n",
       "    }\n",
       "\n",
       "    .dataframe tbody tr th {\n",
       "        vertical-align: top;\n",
       "    }\n",
       "\n",
       "    .dataframe thead th {\n",
       "        text-align: right;\n",
       "    }\n",
       "</style>\n",
       "<table border=\"1\" class=\"dataframe\">\n",
       "  <thead>\n",
       "    <tr style=\"text-align: right;\">\n",
       "      <th></th>\n",
       "      <th>time_estimated</th>\n",
       "      <th>destination_time</th>\n",
       "      <th>updated_at</th>\n",
       "      <th>statiun</th>\n",
       "      <th>asal</th>\n",
       "      <th>time</th>\n",
       "    </tr>\n",
       "  </thead>\n",
       "  <tbody>\n",
       "    <tr>\n",
       "      <th>0</th>\n",
       "      <td>2024-06-02 06:07:00</td>\n",
       "      <td>2024-06-02 06:16:00</td>\n",
       "      <td>2024-03-16 17:00:08.063000+00:00</td>\n",
       "      <td>ANCOL</td>\n",
       "      <td>JAKARTAKOTA</td>\n",
       "      <td>9.0</td>\n",
       "    </tr>\n",
       "    <tr>\n",
       "      <th>1</th>\n",
       "      <td>2024-06-02 06:34:00</td>\n",
       "      <td>2024-06-02 06:42:00</td>\n",
       "      <td>2024-03-16 17:00:08.063000+00:00</td>\n",
       "      <td>ANCOL</td>\n",
       "      <td>TANJUNGPRIUK</td>\n",
       "      <td>8.0</td>\n",
       "    </tr>\n",
       "    <tr>\n",
       "      <th>2</th>\n",
       "      <td>2024-06-02 06:24:00</td>\n",
       "      <td>2024-06-02 06:33:00</td>\n",
       "      <td>2024-03-16 17:00:08.063000+00:00</td>\n",
       "      <td>ANCOL</td>\n",
       "      <td>JAKARTAKOTA</td>\n",
       "      <td>9.0</td>\n",
       "    </tr>\n",
       "    <tr>\n",
       "      <th>3</th>\n",
       "      <td>2024-06-02 06:50:00</td>\n",
       "      <td>2024-06-02 06:58:00</td>\n",
       "      <td>2024-03-16 17:00:08.063000+00:00</td>\n",
       "      <td>ANCOL</td>\n",
       "      <td>TANJUNGPRIUK</td>\n",
       "      <td>8.0</td>\n",
       "    </tr>\n",
       "    <tr>\n",
       "      <th>4</th>\n",
       "      <td>2024-06-02 06:43:00</td>\n",
       "      <td>2024-06-02 06:52:00</td>\n",
       "      <td>2024-03-16 17:00:08.063000+00:00</td>\n",
       "      <td>ANCOL</td>\n",
       "      <td>JAKARTAKOTA</td>\n",
       "      <td>9.0</td>\n",
       "    </tr>\n",
       "  </tbody>\n",
       "</table>\n",
       "</div>"
      ],
      "text/plain": [
       "       time_estimated    destination_time                       updated_at  \\\n",
       "0 2024-06-02 06:07:00 2024-06-02 06:16:00 2024-03-16 17:00:08.063000+00:00   \n",
       "1 2024-06-02 06:34:00 2024-06-02 06:42:00 2024-03-16 17:00:08.063000+00:00   \n",
       "2 2024-06-02 06:24:00 2024-06-02 06:33:00 2024-03-16 17:00:08.063000+00:00   \n",
       "3 2024-06-02 06:50:00 2024-06-02 06:58:00 2024-03-16 17:00:08.063000+00:00   \n",
       "4 2024-06-02 06:43:00 2024-06-02 06:52:00 2024-03-16 17:00:08.063000+00:00   \n",
       "\n",
       "  statiun          asal  time  \n",
       "0   ANCOL   JAKARTAKOTA   9.0  \n",
       "1   ANCOL  TANJUNGPRIUK   8.0  \n",
       "2   ANCOL   JAKARTAKOTA   9.0  \n",
       "3   ANCOL  TANJUNGPRIUK   8.0  \n",
       "4   ANCOL   JAKARTAKOTA   9.0  "
      ]
     },
     "execution_count": 4,
     "metadata": {},
     "output_type": "execute_result"
    }
   ],
   "source": [
    "origin.iloc[:5, 7:]"
   ]
  },
  {
   "cell_type": "code",
   "execution_count": 5,
   "id": "3ad8e9d3-c370-4bb7-85e9-95a2ad681023",
   "metadata": {},
   "outputs": [
    {
     "data": {
      "text/plain": [
       "0"
      ]
     },
     "execution_count": 5,
     "metadata": {},
     "output_type": "execute_result"
    }
   ],
   "source": [
    "origin.isnull().sum().sum()"
   ]
  },
  {
   "cell_type": "code",
   "execution_count": 6,
   "id": "aa9493e3-a887-42fb-94e4-453d6933677d",
   "metadata": {},
   "outputs": [
    {
     "data": {
      "text/plain": [
       "0"
      ]
     },
     "execution_count": 6,
     "metadata": {},
     "output_type": "execute_result"
    }
   ],
   "source": [
    "origin.duplicated().sum()"
   ]
  },
  {
   "cell_type": "code",
   "execution_count": 7,
   "id": "2b2f4bae-6511-4dee-9ed1-3701b29718b4",
   "metadata": {},
   "outputs": [
    {
     "data": {
      "text/plain": [
       "18065"
      ]
     },
     "execution_count": 7,
     "metadata": {},
     "output_type": "execute_result"
    }
   ],
   "source": [
    "total_trip = origin[\"id\"].count()\n",
    "\n",
    "total_trip"
   ]
  },
  {
   "cell_type": "code",
   "execution_count": 8,
   "id": "cb421aaa-dcd6-458d-ada5-909437afe6ec",
   "metadata": {},
   "outputs": [],
   "source": [
    "assert total_trip == origin.shape[0], \"Fail !\""
   ]
  }
 ],
 "metadata": {
  "kernelspec": {
   "display_name": "Python 3 (ipykernel)",
   "language": "python",
   "name": "python3"
  },
  "language_info": {
   "codemirror_mode": {
    "name": "ipython",
    "version": 3
   },
   "file_extension": ".py",
   "mimetype": "text/x-python",
   "name": "python",
   "nbconvert_exporter": "python",
   "pygments_lexer": "ipython3",
   "version": "3.9.13"
  }
 },
 "nbformat": 4,
 "nbformat_minor": 5
}
